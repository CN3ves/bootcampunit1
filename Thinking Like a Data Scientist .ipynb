{
 "cells": [
  {
   "cell_type": "markdown",
   "metadata": {},
   "source": [
    "Question 1 : "
   ]
  },
  {
   "cell_type": "markdown",
   "metadata": {},
   "source": [
    "In order to determine which product should be the focus of the advertising campaign we need to establish if we want to try and increase the popularity of the worst performing product with an awareness campaign or to determine if this campaign is to make as much money as possible for the company. \n",
    "\n",
    "Option 1) \n",
    "To establish which product needs an awareness campaign we would look at the number of pageviews  each product is getting and the number of total conversions on the product. Is it possible that the fizzbangs get the least page views, but have the highest conversion rate ? Is it possible that people not knowing the company offers the product is the only thing preventing the company from selling much more units?\n",
    "\n",
    "Option 2) \n",
    "If we simply want to drive revenue for the company we should ask identify each products Cost Per Conversion from previous campaigns , subtract the Cost Per Conversion from the revenue on each product and multiply that by the conversions.  "
   ]
  },
  {
   "cell_type": "markdown",
   "metadata": {},
   "source": [
    "Question 2 : "
   ]
  },
  {
   "cell_type": "markdown",
   "metadata": {},
   "source": [
    "In order to answer the question I would use the timestamps to determine at which point in the funnel users are exiting the funnel and also how long the user is taking on each step. I would look at the average time on each page each day and see if we can notice where the drop off began to occur?  Does the date correspond to any major change made on the website? \n",
    "\n",
    "In addition I think analyzing the marketing spend and how it affects users who submit payment. Could a significant decrease in marketing spend be the cause of the drop off? Is it possible that the marketing spend has increased, but that spend is not being used effectively? \n",
    "\n"
   ]
  },
  {
   "cell_type": "markdown",
   "metadata": {},
   "source": [
    "Question 3 : "
   ]
  },
  {
   "cell_type": "markdown",
   "metadata": {},
   "source": [
    "A ranking system should be created. To do this , we should first remove the hotels that are not available. After that we should create a weighting system that takes into account the  cost of the hotel and the popularity of the hotel determined by the s the time spent on page. We would take into account time spent on the page because given what we understand about browsing patterns, people often bounce from pages they do not have interest in. "
   ]
  },
  {
   "cell_type": "markdown",
   "metadata": {},
   "source": [
    "Question 4 :"
   ]
  },
  {
   "cell_type": "markdown",
   "metadata": {},
   "source": [
    "In order to understand the churn, I would establish what typical user sessions look like and compare that to user sessions for a two week period before they stop using the ap. Does ap use suddenly drop off , is it a gradual drop off? Can we anticipate at what point the user will find diminishing returns from the ap and add additional value to keep it going. "
   ]
  },
  {
   "cell_type": "code",
   "execution_count": null,
   "metadata": {},
   "outputs": [],
   "source": []
  }
 ],
 "metadata": {
  "kernelspec": {
   "display_name": "Python 3",
   "language": "python",
   "name": "python3"
  },
  "language_info": {
   "codemirror_mode": {
    "name": "ipython",
    "version": 3
   },
   "file_extension": ".py",
   "mimetype": "text/x-python",
   "name": "python",
   "nbconvert_exporter": "python",
   "pygments_lexer": "ipython3",
   "version": "3.6.5"
  }
 },
 "nbformat": 4,
 "nbformat_minor": 2
}
