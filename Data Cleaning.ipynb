{
 "cells": [
  {
   "cell_type": "code",
   "execution_count": 246,
   "metadata": {},
   "outputs": [],
   "source": [
    "import numpy as np\n",
    "import pandas as pd\n",
    "import scipy.stats\n",
    "import statistics\n",
    "import matplotlib.pyplot as plt\n",
    "import seaborn as sns\n",
    "%matplotlib inline"
   ]
  },
  {
   "cell_type": "code",
   "execution_count": 248,
   "metadata": {},
   "outputs": [],
   "source": [
    "data_one = pd.read_csv('data_to_clean.csv')"
   ]
  },
  {
   "cell_type": "code",
   "execution_count": 249,
   "metadata": {
    "scrolled": true
   },
   "outputs": [
    {
     "data": {
      "text/html": [
       "<div>\n",
       "<style scoped>\n",
       "    .dataframe tbody tr th:only-of-type {\n",
       "        vertical-align: middle;\n",
       "    }\n",
       "\n",
       "    .dataframe tbody tr th {\n",
       "        vertical-align: top;\n",
       "    }\n",
       "\n",
       "    .dataframe thead th {\n",
       "        text-align: right;\n",
       "    }\n",
       "</style>\n",
       "<table border=\"1\" class=\"dataframe\">\n",
       "  <thead>\n",
       "    <tr style=\"text-align: right;\">\n",
       "      <th></th>\n",
       "      <th>PMID/PMCID</th>\n",
       "      <th>Publisher</th>\n",
       "      <th>Article title</th>\n",
       "      <th>COST (£) charged to Wellcome (inc VAT when charged)</th>\n",
       "    </tr>\n",
       "    <tr>\n",
       "      <th>Journal title</th>\n",
       "      <th></th>\n",
       "      <th></th>\n",
       "      <th></th>\n",
       "      <th></th>\n",
       "    </tr>\n",
       "  </thead>\n",
       "  <tbody>\n",
       "    <tr>\n",
       "      <th>plos one</th>\n",
       "      <td>188</td>\n",
       "      <td>190</td>\n",
       "      <td>190</td>\n",
       "      <td>190</td>\n",
       "    </tr>\n",
       "    <tr>\n",
       "      <th>journal of biological chemistry</th>\n",
       "      <td>52</td>\n",
       "      <td>53</td>\n",
       "      <td>53</td>\n",
       "      <td>53</td>\n",
       "    </tr>\n",
       "    <tr>\n",
       "      <th>neuroimage</th>\n",
       "      <td>28</td>\n",
       "      <td>29</td>\n",
       "      <td>29</td>\n",
       "      <td>29</td>\n",
       "    </tr>\n",
       "    <tr>\n",
       "      <th>nucleic acids research</th>\n",
       "      <td>25</td>\n",
       "      <td>26</td>\n",
       "      <td>26</td>\n",
       "      <td>26</td>\n",
       "    </tr>\n",
       "    <tr>\n",
       "      <th>plos genetics</th>\n",
       "      <td>23</td>\n",
       "      <td>24</td>\n",
       "      <td>24</td>\n",
       "      <td>24</td>\n",
       "    </tr>\n",
       "  </tbody>\n",
       "</table>\n",
       "</div>"
      ],
      "text/plain": [
       "                                 PMID/PMCID  Publisher  Article title  \\\n",
       "Journal title                                                           \n",
       "plos one                                188        190            190   \n",
       "journal of biological chemistry          52         53             53   \n",
       "neuroimage                               28         29             29   \n",
       "nucleic acids research                   25         26             26   \n",
       "plos genetics                            23         24             24   \n",
       "\n",
       "                                 COST (£) charged to Wellcome (inc VAT when charged)  \n",
       "Journal title                                                                         \n",
       "plos one                                                                       190    \n",
       "journal of biological chemistry                                                 53    \n",
       "neuroimage                                                                      29    \n",
       "nucleic acids research                                                          26    \n",
       "plos genetics                                                                   24    "
      ]
     },
     "execution_count": 249,
     "metadata": {},
     "output_type": "execute_result"
    }
   ],
   "source": [
    "## scrub journal title of spaces and caps\n",
    "data_group = data_one.groupby('Journal title').count()\n",
    "data_group.nlargest(5, 'Article title')\n",
    "data_one['Journal title']=data_one['Journal title'].str.lower()\n",
    "data_one['Journal title'] = data_one['Journal title'].str.strip()\n",
    "data_group_2 = data_one.groupby('Journal title').count()\n",
    "data_group_2.nlargest(5, 'Article title')"
   ]
  },
  {
   "cell_type": "markdown",
   "metadata": {},
   "source": [
    "Atempting to group the Jornal Titles reveal they need to be srubbed for capitlizations. Will also srub spaces to ensure we get ther right results"
   ]
  },
  {
   "cell_type": "markdown",
   "metadata": {},
   "source": [
    "The five Journals with the most articles are\n",
    "- Plos One with 190 Articles\n",
    "- Journal of Biological Chemistry with 53 articles\n",
    "- Nueroimage with 29 articles\n",
    "- Plos Genetics with 26 articles\n",
    "- Plos Pathogens with 24 articles"
   ]
  },
  {
   "cell_type": "code",
   "execution_count": 250,
   "metadata": {},
   "outputs": [],
   "source": [
    "### removing dollar and british pound signs and convert to float\n",
    "### how to winzor\n",
    "data_one['COST (£) charged to Wellcome (inc VAT when charged)'] = data_one['COST (£) charged to Wellcome (inc VAT when charged)'].str.replace('$', '')\n",
    "data_one['COST (£) charged to Wellcome (inc VAT when charged)'] = data_one['COST (£) charged to Wellcome (inc VAT when charged)'].str.replace('\\xA3', '')\n",
    "data_one['COST (£) charged to Wellcome (inc VAT when charged)'] = data_one['COST (£) charged to Wellcome (inc VAT when charged)'].astype(float)"
   ]
  },
  {
   "cell_type": "code",
   "execution_count": 261,
   "metadata": {},
   "outputs": [
    {
     "name": "stdout",
     "output_type": "stream",
     "text": [
      "Average Cost of Plos One: £ 38751.29\n",
      "Average Cost of Journal of Biological Chemistry: £ 20264.63\n",
      "Average Cost of Neuroimage: £ 2215.17\n",
      "Average Cost of Nucleic Acids Research: £ 1149.0\n",
      "Average Cost of Plos Genetics: £ 84839.44\n",
      "Average Cost of all journals is  24067.339971791254\n"
     ]
    }
   ],
   "source": [
    "data_by_journal=data_one.groupby('Journal title')['COST (£) charged to Wellcome (inc VAT when charged)'].mean()\n",
    "print('Average Cost of Plos One:','\\xA3',str(round(data_by_journal.loc['plos one'],2)))\n",
    "print('Average Cost of Journal of Biological Chemistry:','\\xA3',str(round(data_by_journal.loc['journal of biological chemistry'],2)))\n",
    "print('Average Cost of Neuroimage:','\\xA3',str(round(data_by_journal.loc['neuroimage'],2)))\n",
    "print('Average Cost of Nucleic Acids Research:','\\xA3',str(round(data_by_journal.loc['nucleic acids research'],2)))\n",
    "print('Average Cost of Plos Genetics:','\\xA3',str(round(data_by_journal.loc['plos genetics'],2)))\n",
    "\n",
    "print('Average Cost of all journals is ',data_one.loc[:,'COST (£) charged to Wellcome (inc VAT when charged)'].mean())"
   ]
  },
  {
   "cell_type": "code",
   "execution_count": 262,
   "metadata": {},
   "outputs": [
    {
     "name": "stdout",
     "output_type": "stream",
     "text": [
      "Median Cost of Plos One: £ 898.48\n",
      "Median Cost of Journal of Biological Chemistry: £ 1314.53\n",
      "Median Cost of Neuroimage: £ 2326.43\n",
      "Median Cost of Nucleic Acids Research: £ 852.0\n",
      "Median Cost of Plos Genetics: £ 1718.39\n",
      "Median cost of all journals is  1884.01\n"
     ]
    }
   ],
   "source": [
    "data_by_journal=data_one.groupby('Journal title')['COST (£) charged to Wellcome (inc VAT when charged)'].median()\n",
    "print('Median Cost of Plos One:','\\xA3',str(round(data_by_journal.loc['plos one'],2)))\n",
    "print('Median Cost of Journal of Biological Chemistry:','\\xA3',str(round(data_by_journal.loc['journal of biological chemistry'],2)))\n",
    "print('Median Cost of Neuroimage:','\\xA3',str(round(data_by_journal.loc['neuroimage'],2)))\n",
    "print('Median Cost of Nucleic Acids Research:','\\xA3',str(round(data_by_journal.loc['nucleic acids research'],2)))\n",
    "print('Median Cost of Plos Genetics:','\\xA3',str(round(data_by_journal.loc['plos genetics'],2)))\n",
    "\n",
    "\n",
    "print('Median cost of all journals is ',data_one.loc[:,'COST (£) charged to Wellcome (inc VAT when charged)'].median())"
   ]
  },
  {
   "cell_type": "code",
   "execution_count": 259,
   "metadata": {},
   "outputs": [
    {
     "data": {
      "text/plain": [
       "146860.66555904722"
      ]
     },
     "execution_count": 259,
     "metadata": {},
     "output_type": "execute_result"
    }
   ],
   "source": [
    "print('The STD of all jdata_one.loc[:,'COST (£) charged to Wellcome (inc VAT when charged)'].std()"
   ]
  },
  {
   "cell_type": "code",
   "execution_count": null,
   "metadata": {},
   "outputs": [],
   "source": []
  }
 ],
 "metadata": {
  "kernelspec": {
   "display_name": "Python 3",
   "language": "python",
   "name": "python3"
  },
  "language_info": {
   "codemirror_mode": {
    "name": "ipython",
    "version": 3
   },
   "file_extension": ".py",
   "mimetype": "text/x-python",
   "name": "python",
   "nbconvert_exporter": "python",
   "pygments_lexer": "ipython3",
   "version": "3.6.5"
  }
 },
 "nbformat": 4,
 "nbformat_minor": 2
}
