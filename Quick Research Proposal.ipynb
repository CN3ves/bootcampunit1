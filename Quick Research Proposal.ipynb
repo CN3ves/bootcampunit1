{
 "cells": [
  {
   "cell_type": "markdown",
   "metadata": {},
   "source": [
    "\n",
    "# The Problem"
   ]
  },
  {
   "cell_type": "markdown",
   "metadata": {},
   "source": [
    "The sith belives that the current slogan of \"Give In to Your Anger\" is not an effective advertising slogan. In order to test the effectivness of the slogan studies , a second slogan should be introduced. "
   ]
  },
  {
   "cell_type": "markdown",
   "metadata": {},
   "source": [
    "# The potential  solution"
   ]
  },
  {
   "cell_type": "markdown",
   "metadata": {},
   "source": [
    "A change in slogan will result in an increase of sign ups for the Empire."
   ]
  },
  {
   "cell_type": "markdown",
   "metadata": {},
   "source": [
    "# The Method of testing the solution"
   ]
  },
  {
   "cell_type": "markdown",
   "metadata": {},
   "source": [
    "We should establish which planets we want to target for the advertising campaign. We should establish two groups of 5 planets. Each of the planets in the group should have a corresponding planet in the other group with similar sentiment to the empire, population, financial make up and well as race. Once these planets have been established we can launch two campaigns with the exact same budgets and tactics - with the only distinguishable difference being the slogan. The effectiveness of the campaigns will be determined by the number of new recruits produced from each campaign."
   ]
  },
  {
   "cell_type": "markdown",
   "metadata": {},
   "source": [
    "If we see more than a 10% increase of sign ups from the new slogan overall or a 3% increase when comparing the similar planets we will conclude that the new slogan is more efficient and should be applied to all campaigns moving forwards. \n",
    "\n",
    "We should also look at additional information such as how the slogan performs across each wealth group, race , feelings to the empire to see if we should potentially use different messaging across different planets in the future to increase our campaign effectiveness.\n"
   ]
  },
  {
   "cell_type": "code",
   "execution_count": null,
   "metadata": {},
   "outputs": [],
   "source": []
  }
 ],
 "metadata": {
  "kernelspec": {
   "display_name": "Python 3",
   "language": "python",
   "name": "python3"
  },
  "language_info": {
   "codemirror_mode": {
    "name": "ipython",
    "version": 3
   },
   "file_extension": ".py",
   "mimetype": "text/x-python",
   "name": "python",
   "nbconvert_exporter": "python",
   "pygments_lexer": "ipython3",
   "version": "3.6.5"
  }
 },
 "nbformat": 4,
 "nbformat_minor": 2
}
