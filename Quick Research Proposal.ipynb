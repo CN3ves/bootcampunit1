{
 "cells": [
  {
   "cell_type": "markdown",
   "metadata": {},
   "source": [
    "\n",
    "# The Problem"
   ]
  },
  {
   "cell_type": "markdown",
   "metadata": {},
   "source": [
    "The sith belives that the current slogan of \"Give In to Your Anger\" is not an effective advertising slogan.", 
    "THIS BIT SEEMS MORE LIKE THE POTENTIAL SOLUTION: In order to test the effectivness of the slogan studies , a second slogan should be introduced.",
    "HAVING DEFINED YOUR PROBLEM, MAYBE YOU CAN GO A BIT INTO WHAY IT SHOULD BE STUDIED AND WHAT IS KNOWN ABOUT IT.",
    " * A significant reduction in recruits has been noticed and it is leading to shortage of manpower to deal with the jedis",
    " * There is compelling evidence for an underlying change in social attitudes after the establishment of the empire, where anger has reduced, but there is a greater drive to spread the influence of the empire as a stabilising element for the galaxy"
    
   ]
  },
  {
   "cell_type": "markdown",
   "metadata": {},
   "source": [
    "# The potential  solution"
   ]
  },
  {
   "cell_type": "markdown",
   "metadata": {},
   "source": [
    "A change in slogan will result in an increase of sign ups for the Empire.", 
    "PARTICULARLY, THAT THE SLOGAN FOCUS SHOULD SIFT FROM THE ANGER TO THE WILL OF CONQUEST, USING THE SLOGAN Together We Can Rule the Galaxy INSTEAD",
    "The change of the slogen reflect the knowledged reviewed on The Problem section"
   
   ]
  },
  {
   "cell_type": "markdown",
   "metadata": {},
   "source": [
    "# The Method of testing the solution"
   ]
  },
  {
   "cell_type": "markdown",
   "metadata": {},
   "source": [
    "We should establish which planets we want to target for the advertising campaign. We should establish two groups of 5 planets THERE SHOULD BE A LOT MORE IN THE GALAXY THAT CAN BE USED TO INCREASE THE STATISTICAL POWER. Each of the planets in the group should have a corresponding planet in the other group with similar sentiment to the empire, population, financial make up and well as race. Once these planets have been established we can launch two campaigns with the exact same budgets and tactics - with the only distinguishable difference being the slogan. The effectiveness of the campaigns will be determined by the number of new recruits produced from each campaign. COULD IT WORK BY DIVIDING PLANETS IN SIMILAR REGIONS AND USING BOTH SLOGANS IN EACH PLANET"
   ]
  },
  {
   "cell_type": "markdown",
   "metadata": {},
   "source": [
    "If we see more than a 10% increase of sign ups from the new slogan overall or a 3% increase when comparing the similar planets we will conclude that the new slogan is more efficient and should be applied to all campaigns moving forwards. MAYBE DO A T-TEST AFTER MEETING THE TARGET PERCENTAGES TO ENSURE THE DISTRIBUTIONS ACROSS PLANETS ARE STATISTICALLY DIFFERENT\n",
    "\n",
    "We should also look at additional information such as how the slogan performs across each wealth group, race , feelings to the empire to see if we should potentially use different messaging across different planets in the future to increase our campaign effectiveness.\n"
   ]
  },
  {
   "cell_type": "code",
   "execution_count": null,
   "metadata": {},
   "outputs": [],
   "source": []
  }
 ],
 "metadata": {
  "kernelspec": {
   "display_name": "Python 3",
   "language": "python",
   "name": "python3"
  },
  "language_info": {
   "codemirror_mode": {
    "name": "ipython",
    "version": 3
   },
   "file_extension": ".py",
   "mimetype": "text/x-python",
   "name": "python",
   "nbconvert_exporter": "python",
   "pygments_lexer": "ipython3",
   "version": "3.6.5"
  }
 },
 "nbformat": 4,
 "nbformat_minor": 2
}
